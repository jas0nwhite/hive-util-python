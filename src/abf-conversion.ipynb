{
 "cells": [
  {
   "cell_type": "markdown",
   "metadata": {},
   "source": [
    "# HIVE: converting ABF to HDF5"
   ]
  },
  {
   "cell_type": "code",
   "execution_count": 1,
   "metadata": {},
   "outputs": [
    {
     "name": "stdout",
     "output_type": "stream",
     "text": [
      "read 2019_05_13_DA_uncorrelated_100k_97Hz_MMP001ktk1a+MMP001ktk1b_0000.abf: 0.557641 seconds\n",
      "\twrote header: 0.015608 seconds\n",
      "\twrote FSCV_1: 1.103538 seconds\n",
      "\twrote Cmd_1: 0.844563 seconds\n",
      "\twrote FSCV_2: 1.055668 seconds\n",
      "\twrote Cmd_2: 0.930613 seconds\n",
      "wrote 2019_05_13_DA_uncorrelated_100k_97Hz_MMP001ktk1a+MMP001ktk1b_0000.h5: 3.969667 seconds\n"
     ]
    }
   ],
   "source": [
    "from hive.convert.abf2h5 import ABFConverter\n",
    "\n",
    "abf = ABFConverter(\n",
    "    input_file='/data/hnl/in-vitro/datasets/2019_05_13_DA_uncorrelated_100k_97Hz_MMP001ktk1a+MMP001ktk1b/2019_05_13_DA_uncorrelated_100k_97Hz_MMP001ktk1a+MMP001ktk1b_0000.abf', \n",
    "    # output_file='', \n",
    "    channel_select=[],\n",
    "    verbose=True)\n",
    "\n",
    "abf.process()"
   ]
  },
  {
   "cell_type": "code",
   "execution_count": null,
   "metadata": {},
   "outputs": [],
   "source": []
  }
 ],
 "metadata": {
  "kernelspec": {
   "display_name": "Python 3",
   "language": "python",
   "name": "python3"
  },
  "language_info": {
   "codemirror_mode": {
    "name": "ipython",
    "version": 3
   },
   "file_extension": ".py",
   "mimetype": "text/x-python",
   "name": "python",
   "nbconvert_exporter": "python",
   "pygments_lexer": "ipython3",
   "version": "3.6.8"
  }
 },
 "nbformat": 4,
 "nbformat_minor": 2
}
