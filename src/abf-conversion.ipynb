{
 "cells": [
  {
   "cell_type": "markdown",
   "metadata": {},
   "source": [
    "# HIVE: converting ABF to HDF5"
   ]
  },
  {
   "cell_type": "code",
   "execution_count": 1,
   "metadata": {},
   "outputs": [
    {
     "name": "stdout",
     "output_type": "stream",
     "text": [
      "read 2019_05_13_DA_uncorrelated_100k_97Hz_MMP001ktk1a+MMP001ktk1b_0000.abf: 0.507613 seconds\n",
      "\twrote header: 0.004376 seconds\n",
      "\twrote FSCV_1: 1.102412 seconds\n",
      "\twrote Cmd_1: 0.829584 seconds\n",
      "\twrote FSCV_2: 1.000778 seconds\n",
      "\twrote Cmd_2: 0.975322 seconds\n",
      "wrote 2019_05_13_DA_uncorrelated_100k_97Hz_MMP001ktk1a+MMP001ktk1b_0000.h5: 3.928295 seconds\n"
     ]
    }
   ],
   "source": [
    "from hive.voltammetry.ABFConverter import ABFConverter\n",
    "\n",
    "abf = ABFConverter(\n",
    "    input_file='/data/hnl/in-vitro/datasets/2019_05_13_DA_uncorrelated_100k_97Hz_MMP001ktk1a+MMP001ktk1b/2019_05_13_DA_uncorrelated_100k_97Hz_MMP001ktk1a+MMP001ktk1b_0000.abf', \n",
    "    # output_file='', \n",
    "    channel_select=[],\n",
    "    verbose=True)\n",
    "\n",
    "abf.process()"
   ]
  }
 ],
 "metadata": {
  "kernelspec": {
   "display_name": "Python 3",
   "language": "python",
   "name": "python3"
  },
  "language_info": {
   "codemirror_mode": {
    "name": "ipython",
    "version": 3
   },
   "file_extension": ".py",
   "mimetype": "text/x-python",
   "name": "python",
   "nbconvert_exporter": "python",
   "pygments_lexer": "ipython3",
   "version": "3.6.8"
  }
 },
 "nbformat": 4,
 "nbformat_minor": 2
}
