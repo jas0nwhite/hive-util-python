{
 "cells": [
  {
   "cell_type": "markdown",
   "metadata": {},
   "source": [
    "# HIVE: converting ABF to HDF5\n",
    "\n",
    "First, we'll convert the ABF file to HDF5"
   ]
  },
  {
   "cell_type": "code",
   "execution_count": 1,
   "metadata": {},
   "outputs": [
    {
     "name": "stdout",
     "output_type": "stream",
     "text": [
      "read 2019_05_13_DA_uncorrelated_100k_97Hz_MMP001ktk1a+MMP001ktk1b_0000.abf: 0.546223 seconds\n",
      "\twrote header: 0.009206 seconds\n",
      "\twrote FSCV_1: 1.281572 seconds\n",
      "\twrote Cmd_1: 0.910216 seconds\n",
      "\twrote FSCV_2: 1.150397 seconds\n",
      "\twrote Cmd_2: 1.048709 seconds\n",
      "wrote 2019_05_13_DA_uncorrelated_100k_97Hz_MMP001ktk1a+MMP001ktk1b_0000.h5: 4.410710 seconds\n"
     ]
    }
   ],
   "source": [
    "from pathlib import Path\n",
    "from hive.convert.abf2h5 import ABFConverter\n",
    "\n",
    "\n",
    "input_file = '/data/hnl/in-vitro/datasets/2019_05_13_DA_uncorrelated_100k_97Hz_MMP001ktk1a+MMP001ktk1b/2019_05_13_DA_uncorrelated_100k_97Hz_MMP001ktk1a+MMP001ktk1b_0000.abf'\n",
    "\n",
    "\n",
    "abf = ABFConverter(\n",
    "    input_file=, \n",
    "    # output_file='', \n",
    "    channel_select=[],\n",
    "    verbose=True)\n",
    "\n",
    "abf.process()"
   ]
  },
  {
   "cell_type": "markdown",
   "metadata": {},
   "source": [
    "Next, we'll inspect the HDF5 file using h5py"
   ]
  },
  {
   "cell_type": "code",
   "execution_count": null,
   "metadata": {},
   "outputs": [],
   "source": [
    "import h5py\n",
    "\n",
    "with h5py.File()"
   ]
  }
 ],
 "metadata": {
  "kernelspec": {
   "display_name": "Python 3",
   "language": "python",
   "name": "python3"
  },
  "language_info": {
   "codemirror_mode": {
    "name": "ipython",
    "version": 3
   },
   "file_extension": ".py",
   "mimetype": "text/x-python",
   "name": "python",
   "nbconvert_exporter": "python",
   "pygments_lexer": "ipython3",
   "version": "3.6.8"
  }
 },
 "nbformat": 4,
 "nbformat_minor": 2
}
