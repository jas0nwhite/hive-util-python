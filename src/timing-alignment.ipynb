{
 "cells": [
  {
   "cell_type": "markdown",
   "metadata": {},
   "source": [
    "# Timing Alignment for OPM-MEG\n",
    "\n",
    "We'll need to read in some LVM files"
   ]
  },
  {
   "cell_type": "code",
   "execution_count": 3,
   "metadata": {
    "scrolled": false,
    "pycharm": {
     "is_executing": false
    }
   },
   "outputs": [
    {
     "name": "stdout",
     "text": [
      "read hdr: 0.067195 seconds\n",
      "dply hdr: 0.074200 seconds\n"
     ],
     "output_type": "stream"
    },
    {
     "data": {
      "text/plain": "   channel   name    offset                      start  Samples Y_Unit_Label  \\\n0        0  ch000  0.000000 2018-05-09 12:02:25.693492     1200        Volts   \n1        1  ch001  0.000014 2018-05-09 12:02:25.693506     1200        Volts   \n2        2  ch002  0.000028 2018-05-09 12:02:25.693520     1200        Volts   \n\n  X_Dimension   X0   Delta_X  \n0        Time  0.0  0.000833  \n1        Time  0.0  0.000833  \n2        Time  0.0  0.000833  ",
      "text/html": "<div>\n<style scoped>\n    .dataframe tbody tr th:only-of-type {\n        vertical-align: middle;\n    }\n\n    .dataframe tbody tr th {\n        vertical-align: top;\n    }\n\n    .dataframe thead th {\n        text-align: right;\n    }\n</style>\n<table border=\"1\" class=\"dataframe\">\n  <thead>\n    <tr style=\"text-align: right;\">\n      <th></th>\n      <th>channel</th>\n      <th>name</th>\n      <th>offset</th>\n      <th>start</th>\n      <th>Samples</th>\n      <th>Y_Unit_Label</th>\n      <th>X_Dimension</th>\n      <th>X0</th>\n      <th>Delta_X</th>\n    </tr>\n  </thead>\n  <tbody>\n    <tr>\n      <th>0</th>\n      <td>0</td>\n      <td>ch000</td>\n      <td>0.000000</td>\n      <td>2018-05-09 12:02:25.693492</td>\n      <td>1200</td>\n      <td>Volts</td>\n      <td>Time</td>\n      <td>0.0</td>\n      <td>0.000833</td>\n    </tr>\n    <tr>\n      <th>1</th>\n      <td>1</td>\n      <td>ch001</td>\n      <td>0.000014</td>\n      <td>2018-05-09 12:02:25.693506</td>\n      <td>1200</td>\n      <td>Volts</td>\n      <td>Time</td>\n      <td>0.0</td>\n      <td>0.000833</td>\n    </tr>\n    <tr>\n      <th>2</th>\n      <td>2</td>\n      <td>ch002</td>\n      <td>0.000028</td>\n      <td>2018-05-09 12:02:25.693520</td>\n      <td>1200</td>\n      <td>Volts</td>\n      <td>Time</td>\n      <td>0.0</td>\n      <td>0.000833</td>\n    </tr>\n  </tbody>\n</table>\n</div>"
     },
     "metadata": {},
     "output_type": "execute_result",
     "execution_count": 3
    }
   ],
   "source": [
    "from dfply import *\n",
    "import pandas as pd\n",
    "import numpy as np\n",
    "from pathlib import Path\n",
    "from hive.timer import Timer\n",
    "\n",
    "proj_root = Path('/data/hnl/opm-meg').resolve()\n",
    "\n",
    "lvm =  proj_root / 'incoming' / 'sensor_data' / 'Nottingham' / '10760_91' / 'QZFM_1.lvm'\n",
    "hdf = lvm.with_suffix('.h5')\n",
    "\n",
    "# first, we read in the header portion\n",
    "with Timer('read hdr'):\n",
    "    hdr = pd.read_csv(lvm, \n",
    "                      sep = '\\t', \n",
    "                      skiprows=14, \n",
    "                      nrows=7, \n",
    "                      header=None)\n",
    "\n",
    "# next, we re-shape the header to a table of channel attributes\n",
    "with Timer('dply hdr'):\n",
    "    seconds = pd.Timedelta(seconds=1.0)\n",
    "\n",
    "    # here's a function to combine the Date and Time columns\n",
    "    @make_symbolic\n",
    "    def combine_date_time(date_s, time_s):\n",
    "        return time_s + (date_s - time_s.dt.normalize())\n",
    "        \n",
    "    # here's a function to format things\n",
    "    @make_symbolic\n",
    "    def as_string(series, format_string='{}'):\n",
    "        return series.map(format_string.format)\n",
    "        \n",
    "    # here's a function to convert a float to an int\n",
    "    @make_symbolic\n",
    "    def as_int(series):\n",
    "        return series.astype(int)\n",
    "    \n",
    "    header = (\n",
    "        hdr >>\n",
    "        gather('channel', 'value', columns_from(1)) >>\n",
    "        spread(0, X.value, convert=True) >>\n",
    "        mask(X.Samples > 0) >>\n",
    "        mutate(channel=X.channel - colmin(X.channel)) >>\n",
    "        mutate(offset=(X.Time - colmin(X.Time)) / seconds) >>\n",
    "        mutate(start=combine_date_time(X.Date, X.Time)) >>\n",
    "        mutate(name=as_string(X.channel, format_string='ch{:03d}')) >>\n",
    "        mutate(Samples=as_int(X.Samples)) >>\n",
    "        select(X.channel, X.name, X.offset, X.start, X.Samples, X.Y_Unit_Label, X.X_Dimension, X.X0, X.Delta_X) >>\n",
    "        arrange(X.channel)\n",
    "    )\n",
    "\n",
    "header.head(3)"
   ]
  },
  {
   "cell_type": "code",
   "execution_count": null,
   "metadata": {
    "scrolled": true,
    "pycharm": {
     "is_executing": false
    }
   },
   "outputs": [],
   "source": [
    "# next, we load in the actual data (n_obvs x n_chan)\n",
    "with Timer('read dat'):\n",
    "    dat = pd.read_csv(lvm, sep='\\t', skiprows=22)\n",
    "    \n",
    "dat.head(3)"
   ]
  },
  {
   "cell_type": "code",
   "execution_count": null,
   "metadata": {
    "scrolled": true,
    "pycharm": {
     "is_executing": false
    }
   },
   "outputs": [],
   "source": [
    "# now, let's replace the dummy name we created in the\n",
    "# header above with the actual channel name from the \n",
    "# column names\n",
    "header['name'] = dat.columns.drop(['X_Value', 'Comment'])\n",
    "\n",
    "# finally, we reshape the data so that each sample is in a single row\n",
    "with Timer('dply dat'):\n",
    "    # smaller dataframe cuts down on memory and processing\n",
    "    channels = (\n",
    "        header >>\n",
    "        select(X.channel, X.name, X.offset)\n",
    "    )\n",
    "    \n",
    "    # here's where we re-arrange\n",
    "    data = (\n",
    "        dat >>\n",
    "        mutate(frame=row_number(X.X_Value)) >>\n",
    "        mutate(frame=as_int(X.frame)) >>\n",
    "        drop(X.Comment) >>\n",
    "        gather('name', 'Y_Value', starts_with('cDAQ')) >>\n",
    "        inner_join(channels, by='name') >>\n",
    "        mutate(time=X.X_Value + X.offset) >>\n",
    "        select(X.channel, X.frame, X.time, X.Y_Value)\n",
    "    )\n",
    "    \n",
    "data.head(3)"
   ]
  },
  {
   "cell_type": "code",
   "execution_count": null,
   "metadata": {
    "scrolled": false,
    "pycharm": {
     "is_executing": false
    }
   },
   "outputs": [],
   "source": [
    "# now, we'll output the files\n",
    "with Timer('write hdr hdf'):\n",
    "    header.to_hdf(\n",
    "        hdf,         \n",
    "        mode='w',\n",
    "        format='table',\n",
    "        key='header',\n",
    "        complib='zlib',\n",
    "        complevel=9,\n",
    "        data_columns=True,\n",
    "        index=False\n",
    "    )\n",
    "\n",
    "with Timer('write dat hdf'):\n",
    "    for chan in channels['channel']:\n",
    "        ch = (\n",
    "            data >>\n",
    "            mask(X.channel == chan) >>\n",
    "            arrange(X.frame)\n",
    "        )\n",
    "        \n",
    "        with Timer(f'write ch{chan:03d} hdf'):\n",
    "            ch.to_hdf(\n",
    "                hdf,\n",
    "                mode='r+',\n",
    "                format='table',\n",
    "                key=f'data/ch{chan:03d}',\n",
    "                complib='zlib',\n",
    "                complevel=9,\n",
    "                data_columns=True,\n",
    "                index=False\n",
    "            )\n",
    "\n",
    "\n",
    "\n",
    "#with Timer('write dat tsv'):\n",
    "#    data.to_csv(\n",
    "#        data_tsv, \n",
    "#        sep='\\t', \n",
    "#        index=False, \n",
    "#        float_format='%.6f',\n",
    "#        compression='gzip',\n",
    "#        chunksize=2e7)\n",
    "# ~ 730s\n",
    "\n"
   ]
  },
  {
   "cell_type": "code",
   "execution_count": null,
   "metadata": {
    "pycharm": {
     "is_executing": false
    }
   },
   "outputs": [],
   "source": []
  },
  {
   "cell_type": "code",
   "execution_count": null,
   "metadata": {
    "pycharm": {
     "is_executing": false
    }
   },
   "outputs": [],
   "source": []
  }
 ],
 "metadata": {
  "kernelspec": {
   "display_name": "Python 3",
   "language": "python",
   "name": "python3"
  },
  "language_info": {
   "codemirror_mode": {
    "name": "ipython",
    "version": 3
   },
   "file_extension": ".py",
   "mimetype": "text/x-python",
   "name": "python",
   "nbconvert_exporter": "python",
   "pygments_lexer": "ipython3",
   "version": "3.6.8"
  },
  "pycharm": {
   "stem_cell": {
    "cell_type": "raw",
    "source": [],
    "metadata": {
     "collapsed": false
    }
   }
  }
 },
 "nbformat": 4,
 "nbformat_minor": 2
}