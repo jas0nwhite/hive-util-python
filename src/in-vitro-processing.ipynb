{
 "cells": [
  {
   "cell_type": "markdown",
   "metadata": {},
   "source": [
    "# HIVE: _in vitro_ dataset processing\n",
    "\n",
    "###### An introduction to processing HIVE datasets"
   ]
  },
  {
   "cell_type": "markdown",
   "metadata": {},
   "source": [
    "## Configuration\n",
    "We use [pyhocon](https://github.com/chimpler/pyhocon) to parse a [HOCON](https://github.com/lightbend/config/blob/master/HOCON.md) file which describes configuration parameters for our project"
   ]
  },
  {
   "cell_type": "code",
   "execution_count": 2,
   "metadata": {},
   "outputs": [],
   "source": [
    "from pyhocon import ConfigFactory\n",
    "\n",
    "cfg = ConfigFactory.parse_file('../matlab/treatment-burst-008.conf')"
   ]
  },
  {
   "cell_type": "markdown",
   "metadata": {},
   "source": [
    "Here is the list of chemicals supported in the loaded configuration..."
   ]
  },
  {
   "cell_type": "code",
   "execution_count": 3,
   "metadata": {},
   "outputs": [
    {
     "name": "stdout",
     "output_type": "stream",
     "text": [
      "#1: Dopamine (0.0nM)\n",
      "#2: Serotonin (0.0nM)\n",
      "#3: pH (7.4)\n",
      "#4: Norepinephrine (0.0nM)\n",
      "#5: HydroxyindoleaceticAcid (0.0nM)\n"
     ]
    }
   ],
   "source": [
    "chems = sorted(cfg['chemicals'], key=lambda c: c.ix)\n",
    "\n",
    "for c in chems:\n",
    "    print(f'#{c.ix}: {c.name} ({c.neutral}{c.units})')"
   ]
  },
  {
   "cell_type": "markdown",
   "metadata": {},
   "source": [
    "...and here is the information we need to import training data"
   ]
  },
  {
   "cell_type": "code",
   "execution_count": 4,
   "metadata": {},
   "outputs": [
    {
     "name": "stdout",
     "output_type": "stream",
     "text": [
      "input directories:\n",
      "    /data/hnl/iterate/results_008/training-A-0400Vs-010Hz/20*\n",
      "    /data/hnl/iterate/results_008/training-B-0400Vs-097Hz/20*\n",
      "    /data/hnl/iterate/results_008/training-C-RBV001-097Hz/20*\n",
      "    /data/hnl/iterate/results_008/training-E-0400Vs-097Hz/20*\n",
      "    /data/hnl/iterate/results_008/training-F-RBV001-097Hz/20*\n",
      "    /data/hnl/iterate/results_008/training-X-RBV001-097Hz/20*\n",
      "\n",
      "raw files: *.abf\n",
      "label files: *.csv\n"
     ]
    }
   ],
   "source": [
    "print('input directories:')\n",
    "for s in cfg['training.source-spec']:\n",
    "    print(f'    {s}')\n",
    "    \n",
    "print()\n",
    "print(f'raw files: {cfg[\"training.raw-spec\"]}')\n",
    "print(f'label files: {cfg[\"training.label-spec\"]}')"
   ]
  },
  {
   "cell_type": "markdown",
   "metadata": {},
   "source": [
    "There is a lot more information in the config file. Check it out... it's fairly human-readable."
   ]
  },
  {
   "cell_type": "markdown",
   "metadata": {},
   "source": [
    "## Import and conversion\n",
    "First, we'll find our source directories"
   ]
  },
  {
   "cell_type": "code",
   "execution_count": 5,
   "metadata": {},
   "outputs": [
    {
     "name": "stdout",
     "output_type": "stream",
     "text": [
      "set 1: training-B-0400Vs-097Hz\n",
      "set 1 sources:\n",
      "    2018_03_27_5HT_5HIAA_pH_400Vs_97Hz_CF003_2018_03_24\n",
      "    2018_04_13_5HT_5HIAA_pH_400Vs_97Hz_CF007_2018_04_12\n",
      "    2018_05_31_5HT_5HIAA_pH_400Vs_97Hz_CF006\n",
      "    2018_06_07_5HT_5HIAA_pH_400Vs_97Hz_CF009\n",
      "    2018_06_12_5HT_5HIAA_pH_400Vs_97Hz_CF010\n",
      "    2018_06_12_5HT_5HIAA_pH_400Vs_97Hz_CF013\n",
      "    2018_07_12_5HT_5HIAA_pH_400Vs_97Hz_CF014\n",
      "    2018_09_04_5HT_5HIAA_DA_pH_400Vs_97Hz_CF017\n",
      "    2018_09_05_5HT_5HIAA_DA_pH_400Vs_97Hz_CF017\n",
      "    2018_09_06_5HT_5HIAA_DA_pH_400Vs_97Hz_CF017\n",
      "    2018_09_07_5HT_5HIAA_DA_pH_400Vs_97Hz_CF017\n",
      "    2018_09_08_5HT_5HIAA_DA_pH_400Vs_97Hz_CF017\n",
      "    2018_09_14_5HT_5HIAA_pH_400Vs_97Hz_PT001\n",
      "    2018_09_19_5HT_5HIAA_pH_400Vs_97Hz_BF001W1R6\n",
      "    2018_09_20_5HT_5HIAA_pH_400Vs_97Hz_PT002\n",
      "    2018_09_26_5HT_5HIAA_pH_400Vs_97Hz_WX001\n",
      "    2018_12_13_DA_5HT_NE_5HIAA_400Vs_97Hz_MM001W11R14\n",
      "    2018_12_14_DA_5HT_NE_5HIAA_400Vs_97Hz_CF022\n",
      "    2018_12_20_DA_5HT_NE_5HIAA_400Vs_97Hz_MM001W11R14\n",
      "    2018_12_21_DA_5HT_NE_5HIAA_400Vs_97Hz_CF022\n",
      "    2019_01_07_DA_5HT_NE_5HIAA_400Vs_97Hz_MM001W10R13\n",
      "    2019_01_07_DA_5HT_NE_5HIAA_400Vs_97Hz_MM001W10R13_2\n",
      "    2019_01_16_DA_5HT_NE_5HIAA_400Vs_97Hz_CF022\n",
      "    2019_01_18_DA_5HT_NE_5HIAA_400Vs_97Hz_CF022\n",
      "    2019_01_24_DA_5HT_NE_5HIAA_400Vs_97Hz_CF022\n",
      "    2019_01_24_DA_5HT_NE_5HIAA_400Vs_97Hz_MM001W10R13\n",
      "    2019_02_13_DA_5HT_NE_5HIAA_400Vs_97Hz_MM001W10R13\n",
      "\n",
      "source 26: 2019_02_13_DA_5HT_NE_5HIAA_400Vs_97Hz_MM001W10R13\n",
      "source 26 raw files: 0\n",
      "source 26 label files: 0\n"
     ]
    }
   ],
   "source": [
    "from pathlib import Path\n",
    "\n",
    "# we'll focus on the last source of the second set\n",
    "set_id = 1\n",
    "src_id = -1\n",
    "\n",
    "training_spec = cfg['training.source-spec'][set_id]\n",
    "source_root = Path(training_spec).parent\n",
    "source_spec = Path(training_spec).name\n",
    "\n",
    "print(f'set {set_id}: {source_root.name}')\n",
    "\n",
    "source_dir_list = sorted(source_root.glob(source_spec))\n",
    "\n",
    "print(f'set {set_id} sources:')\n",
    "for d in source_dir_list:\n",
    "    print(f'    {d.name}')\n",
    "\n",
    "src_id += len(source_dir_list) # cosmetics\n",
    "source_dir = source_dir_list[src_id]\n",
    "\n",
    "print()\n",
    "print(f'source {src_id}: {source_dir.name}')\n",
    "\n",
    "raw_file_list = sorted(source_dir.glob(cfg['training.raw-spec']))\n",
    "\n",
    "print(f'source {src_id} raw files: {len(raw_file_list)}')\n",
    "\n",
    "label_file_list = sorted(source_dir.glob(cfg['training.label-spec']))\n",
    "\n",
    "print(f'source {src_id} label files: {len(label_file_list)}')"
   ]
  },
  {
   "cell_type": "markdown",
   "metadata": {},
   "source": [
    "Next, we'll use [pyabf](https://github.com/swharden/pyABF) to read in data files."
   ]
  },
  {
   "cell_type": "code",
   "execution_count": 6,
   "metadata": {},
   "outputs": [
    {
     "ename": "IndexError",
     "evalue": "list index out of range",
     "output_type": "error",
     "traceback": [
      "\u001b[0;31m---------------------------------------------------------------------------\u001b[0m",
      "\u001b[0;31mIndexError\u001b[0m                                Traceback (most recent call last)",
      "\u001b[0;32m<ipython-input-6-3ccd0f4c2789>\u001b[0m in \u001b[0;36m<module>\u001b[0;34m\u001b[0m\n\u001b[1;32m      1\u001b[0m \u001b[0;32mimport\u001b[0m \u001b[0mpyabf\u001b[0m\u001b[0;34m\u001b[0m\u001b[0;34m\u001b[0m\u001b[0m\n\u001b[1;32m      2\u001b[0m \u001b[0;34m\u001b[0m\u001b[0m\n\u001b[0;32m----> 3\u001b[0;31m \u001b[0mabf\u001b[0m \u001b[0;34m=\u001b[0m \u001b[0mpyabf\u001b[0m\u001b[0;34m.\u001b[0m\u001b[0mABF\u001b[0m\u001b[0;34m(\u001b[0m\u001b[0mabf\u001b[0m\u001b[0;34m=\u001b[0m\u001b[0mraw_file_list\u001b[0m\u001b[0;34m[\u001b[0m\u001b[0;36m1\u001b[0m\u001b[0;34m]\u001b[0m\u001b[0;34m,\u001b[0m \u001b[0mpreLoadData\u001b[0m\u001b[0;34m=\u001b[0m\u001b[0;32mTrue\u001b[0m\u001b[0;34m)\u001b[0m\u001b[0;34m\u001b[0m\u001b[0;34m\u001b[0m\u001b[0m\n\u001b[0m\u001b[1;32m      4\u001b[0m \u001b[0;34m\u001b[0m\u001b[0m\n\u001b[1;32m      5\u001b[0m \u001b[0mvoltage_chan\u001b[0m \u001b[0;34m=\u001b[0m \u001b[0mabf\u001b[0m\u001b[0;34m.\u001b[0m\u001b[0madcNames\u001b[0m\u001b[0;34m.\u001b[0m\u001b[0mindex\u001b[0m\u001b[0;34m(\u001b[0m\u001b[0;34m'Cmd'\u001b[0m\u001b[0;34m)\u001b[0m\u001b[0;34m\u001b[0m\u001b[0;34m\u001b[0m\u001b[0m\n",
      "\u001b[0;31mIndexError\u001b[0m: list index out of range"
     ]
    }
   ],
   "source": [
    "import pyabf\n",
    "\n",
    "abf = pyabf.ABF(abf=raw_file_list[1], preLoadData=True)\n",
    "\n",
    "voltage_chan = abf.adcNames.index('Cmd')\n",
    "current_chan = abf.adcNames.index('FSCV_1')\n",
    "sweep_count = abf.sweepCount\n",
    "sweep_samples = abf.sweepPointCount\n",
    "sample_freq = abf.dataRate\n",
    "sweep_freq = sample_freq / sweep_samples\n",
    "\n",
    "current = abf.data[current_chan].reshape(sweep_count, sweep_samples)\n",
    "voltage = abf.data[voltage_chan].reshape(sweep_count, sweep_samples)\n",
    "\n"
   ]
  },
  {
   "cell_type": "code",
   "execution_count": 6,
   "metadata": {},
   "outputs": [
    {
     "data": {
      "image/png": "[encoded data removed]",
      "text/plain": [
       "<Figure size 432x288 with 2 Axes>"
      ]
     },
     "metadata": {},
     "output_type": "display_data"
    }
   ],
   "source": [
    "import matplotlib.pyplot as plt\n",
    "\n",
    "prop_cycle = plt.rcParams['axes.prop_cycle']\n",
    "colors = prop_cycle.by_key()['color']\n",
    "\n",
    "fig, ax = plt.subplots()\n",
    "\n",
    "ln = ax.plot(current[500, :], color=colors[0], label='current')\n",
    "ax.spines['top'].set_color('none')\n",
    "ax.set_xlabel('sample')\n",
    "ax.set_ylabel('current (nA)')\n",
    "\n",
    "ax2 = ax.twinx()\n",
    "ln2 = ax2.plot(voltage[500, :], color=colors[1], label='voltage')\n",
    "ax2.spines['top'].set_color('none')\n",
    "ax2.set_ylabel('voltage (V)')\n",
    "\n",
    "lns = ln + ln2\n",
    "labs = [l.get_label() for l in lns]\n",
    "ax.legend(lns, labs)\n",
    "\n",
    "ax.set_title(f'{source_dir.name}\\n'\n",
    "             +f'{round(sweep_freq)} Hz sweep  |  '\n",
    "             +r'$F_{s}$ '\n",
    "             +f'= {round(sample_freq / 1e3)} kHz')\n",
    "\n",
    "plt.show()"
   ]
  }
 ],
 "metadata": {
  "kernelspec": {
   "display_name": "Python 3",
   "language": "python",
   "name": "python3"
  },
  "language_info": {
   "codemirror_mode": {
    "name": "ipython",
    "version": 3
   },
   "file_extension": ".py",
   "mimetype": "text/x-python",
   "name": "python",
   "nbconvert_exporter": "python",
   "pygments_lexer": "ipython3",
   "version": "3.6.8"
  }
 },
 "nbformat": 4,
 "nbformat_minor": 2
}
